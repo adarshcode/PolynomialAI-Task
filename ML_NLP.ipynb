{
  "cells": [
    {
      "cell_type": "code",
      "execution_count": null,
      "metadata": {
        "id": "VWLqQ0eX5XX4"
      },
      "outputs": [],
      "source": [
        "import csv\n",
        "import json\n",
        "import pandas as pd\n",
        "import numpy as np"
      ]
    },
    {
      "cell_type": "code",
      "execution_count": null,
      "metadata": {
        "colab": {
          "base_uri": "https://localhost:8080/"
        },
        "id": "L0jba5_u5abC",
        "outputId": "f242701f-c995-451e-d921-3a5d3f43e964"
      },
      "outputs": [
        {
          "name": "stdout",
          "output_type": "stream",
          "text": [
            "--2022-02-18 17:34:06--  http://deepyeti.ucsd.edu/jianmo/amazon/categoryFiles/Cell_Phones_and_Accessories.json.gz\n",
            "Resolving deepyeti.ucsd.edu (deepyeti.ucsd.edu)... 169.228.63.50\n",
            "Connecting to deepyeti.ucsd.edu (deepyeti.ucsd.edu)|169.228.63.50|:80... connected.\n",
            "HTTP request sent, awaiting response... 200 OK\n",
            "Length: 1232323281 (1.1G) [application/octet-stream]\n",
            "Saving to: ‘Cell_Phones_and_Accessories.json.gz’\n",
            "\n",
            "Cell_Phones_and_Acc 100%[===================>]   1.15G  52.4MB/s    in 23s     \n",
            "\n",
            "2022-02-18 17:34:29 (50.8 MB/s) - ‘Cell_Phones_and_Accessories.json.gz’ saved [1232323281/1232323281]\n",
            "\n"
          ]
        }
      ],
      "source": [
        "!wget http://deepyeti.ucsd.edu/jianmo/amazon/categoryFiles/Cell_Phones_and_Accessories.json.gz"
      ]
    },
    {
      "cell_type": "code",
      "execution_count": null,
      "metadata": {
        "id": "oEuo8om_5dly"
      },
      "outputs": [],
      "source": [
        "!gunzip Cell_Phones_and_Accessories.json.gz"
      ]
    },
    {
      "cell_type": "code",
      "execution_count": null,
      "metadata": {
        "colab": {
          "base_uri": "https://localhost:8080/"
        },
        "id": "MnRxdvnnZayK",
        "outputId": "6938a0f4-10f1-482d-9059-9b736c6e340e"
      },
      "outputs": [
        {
          "name": "stdout",
          "output_type": "stream",
          "text": [
            "Done\n"
          ]
        }
      ],
      "source": [
        "input_file = \"Cell_Phones_and_Accessories.json\"\n",
        "input_json = open(input_file, \"r\", encoding=\"utf-8\")\n",
        "\n",
        "output_file = \"Cell_Phones_and_Accessories.csv\"\n",
        "with open(output_file, \"w\", encoding=\"utf-8\") as output_csv:\n",
        "    csv_writer = csv.writer(output_csv)\n",
        "    flag = 0\n",
        "    for line in input_json.readlines():\n",
        "        dic = json.loads(line)\n",
        "        # writing headline in the beginning\n",
        "        if flag == 0:\n",
        "            csv_writer.writerow(dic)\n",
        "            flag = 1\n",
        "        csv_writer.writerow(dic.values())\n",
        "\n",
        "print(\"Done\")"
      ]
    },
    {
      "cell_type": "code",
      "execution_count": null,
      "metadata": {
        "id": "rR8mivEt6DNN"
      },
      "outputs": [],
      "source": [
        ""
      ]
    },
    {
      "cell_type": "code",
      "execution_count": null,
      "metadata": {
        "colab": {
          "base_uri": "https://localhost:8080/"
        },
        "id": "cv7lry8M7fpC",
        "outputId": "a1a69e87-6347-4099-cc02-1808de21e25f"
      },
      "outputs": [
        {
          "name": "stdout",
          "output_type": "stream",
          "text": [
            "(1000000, 9)\n",
            "------------------------------------------------------------------------------------------\n",
            "  overall verified  ...     summary unixReviewTime\n",
            "0     5.0    False  ...  Five Stars   1416355200.0\n",
            "1     5.0    False  ...  Five Stars   1416355200.0\n",
            "\n",
            "[2 rows x 9 columns]\n",
            "------------------------------------------------------------------------------------------\n"
          ]
        },
        {
          "name": "stderr",
          "output_type": "stream",
          "text": [
            "/usr/local/lib/python3.7/dist-packages/IPython/core/interactiveshell.py:2822: DtypeWarning: Columns (0,1,8) have mixed types.Specify dtype option on import or set low_memory=False.\n",
            "  if self.run_code(code, result):\n"
          ]
        }
      ],
      "source": [
        "for chunk in pd.read_csv('Cell_Phones_and_Accessories.csv',on_bad_lines='skip',chunksize=1000000):\n",
        "  print(chunk.shape)\n",
        "  print(\"-\"*90)\n",
        "  print(chunk.head(2))\n",
        "  print(\"-\"*90)\n",
        "  break"
      ]
    },
    {
      "cell_type": "code",
      "source": [
        "def convert_dtype(x):\n",
        "    if not x:\n",
        "        return '0.0'\n",
        "    try:\n",
        "        return str(x)   \n",
        "    except:        \n",
        "        return '0.0'\n"
      ],
      "metadata": {
        "id": "QS5cQE4DqI_K"
      },
      "execution_count": 148,
      "outputs": []
    },
    {
      "cell_type": "code",
      "source": [
        "def convert_dtype1(x):\n",
        "    if not x:\n",
        "        return 0.0\n",
        "    try:\n",
        "        return float(x)   \n",
        "    except:        \n",
        "        return 0.0\n"
      ],
      "metadata": {
        "id": "mI7Ix5PHvUoc"
      },
      "execution_count": 171,
      "outputs": []
    },
    {
      "cell_type": "code",
      "execution_count": 172,
      "metadata": {
        "id": "-X5OW_Zz7oLF"
      },
      "outputs": [],
      "source": [
        "chunks=[]\n",
        "for chunk in pd.read_csv('Cell_Phones_and_Accessories.csv',on_bad_lines='skip',chunksize=1000000, converters={'overall':convert_dtype1,'verified':convert_dtype,'unixReviewTime':convert_dtype}):\n",
        "  chunks.append(chunk)"
      ]
    },
    {
      "cell_type": "code",
      "execution_count": 173,
      "metadata": {
        "colab": {
          "base_uri": "https://localhost:8080/"
        },
        "id": "awN87niF9kTY",
        "outputId": "e9211fda-a5c1-421d-9c40-4aaaa491d977"
      },
      "outputs": [
        {
          "output_type": "execute_result",
          "data": {
            "text/plain": [
              "10"
            ]
          },
          "metadata": {},
          "execution_count": 173
        }
      ],
      "source": [
        "len(chunks)"
      ]
    },
    {
      "cell_type": "code",
      "execution_count": 174,
      "metadata": {
        "colab": {
          "base_uri": "https://localhost:8080/"
        },
        "id": "8g3dg9KqALDP",
        "outputId": "f74b078f-b731-435f-818f-5b07a4e1455e"
      },
      "outputs": [
        {
          "output_type": "execute_result",
          "data": {
            "text/plain": [
              "Index(['overall', 'verified', 'reviewTime', 'reviewerID', 'asin',\n",
              "       'reviewerName', 'reviewText', 'summary', 'unixReviewTime'],\n",
              "      dtype='object')"
            ]
          },
          "metadata": {},
          "execution_count": 174
        }
      ],
      "source": [
        "chunks[0].columns"
      ]
    },
    {
      "cell_type": "code",
      "source": [
        "for chunk in chunks:\n",
        "  print(chunk.info())"
      ],
      "metadata": {
        "colab": {
          "base_uri": "https://localhost:8080/"
        },
        "id": "v-MVyRIpwPOH",
        "outputId": "cdb0fe6c-5269-4f88-f1e4-1eac0c62f8d2"
      },
      "execution_count": 175,
      "outputs": [
        {
          "output_type": "stream",
          "name": "stdout",
          "text": [
            "<class 'pandas.core.frame.DataFrame'>\n",
            "RangeIndex: 1000000 entries, 0 to 999999\n",
            "Data columns (total 9 columns):\n",
            " #   Column          Non-Null Count    Dtype  \n",
            "---  ------          --------------    -----  \n",
            " 0   overall         1000000 non-null  float64\n",
            " 1   verified        1000000 non-null  object \n",
            " 2   reviewTime      1000000 non-null  object \n",
            " 3   reviewerID      1000000 non-null  object \n",
            " 4   asin            1000000 non-null  object \n",
            " 5   reviewerName    999965 non-null   object \n",
            " 6   reviewText      999987 non-null   object \n",
            " 7   summary         999985 non-null   object \n",
            " 8   unixReviewTime  1000000 non-null  object \n",
            "dtypes: float64(1), object(8)\n",
            "memory usage: 68.7+ MB\n",
            "None\n",
            "<class 'pandas.core.frame.DataFrame'>\n",
            "RangeIndex: 1000000 entries, 1000000 to 1999999\n",
            "Data columns (total 9 columns):\n",
            " #   Column          Non-Null Count    Dtype  \n",
            "---  ------          --------------    -----  \n",
            " 0   overall         1000000 non-null  float64\n",
            " 1   verified        1000000 non-null  object \n",
            " 2   reviewTime      1000000 non-null  object \n",
            " 3   reviewerID      1000000 non-null  object \n",
            " 4   asin            1000000 non-null  object \n",
            " 5   reviewerName    999976 non-null   object \n",
            " 6   reviewText      999974 non-null   object \n",
            " 7   summary         999984 non-null   object \n",
            " 8   unixReviewTime  1000000 non-null  object \n",
            "dtypes: float64(1), object(8)\n",
            "memory usage: 68.7+ MB\n",
            "None\n",
            "<class 'pandas.core.frame.DataFrame'>\n",
            "RangeIndex: 1000000 entries, 2000000 to 2999999\n",
            "Data columns (total 9 columns):\n",
            " #   Column          Non-Null Count    Dtype  \n",
            "---  ------          --------------    -----  \n",
            " 0   overall         1000000 non-null  float64\n",
            " 1   verified        1000000 non-null  object \n",
            " 2   reviewTime      1000000 non-null  object \n",
            " 3   reviewerID      1000000 non-null  object \n",
            " 4   asin            1000000 non-null  object \n",
            " 5   reviewerName    999981 non-null   object \n",
            " 6   reviewText      999980 non-null   object \n",
            " 7   summary         999984 non-null   object \n",
            " 8   unixReviewTime  1000000 non-null  object \n",
            "dtypes: float64(1), object(8)\n",
            "memory usage: 68.7+ MB\n",
            "None\n",
            "<class 'pandas.core.frame.DataFrame'>\n",
            "RangeIndex: 1000000 entries, 3000000 to 3999999\n",
            "Data columns (total 9 columns):\n",
            " #   Column          Non-Null Count    Dtype  \n",
            "---  ------          --------------    -----  \n",
            " 0   overall         1000000 non-null  float64\n",
            " 1   verified        1000000 non-null  object \n",
            " 2   reviewTime      1000000 non-null  object \n",
            " 3   reviewerID      1000000 non-null  object \n",
            " 4   asin            1000000 non-null  object \n",
            " 5   reviewerName    999988 non-null   object \n",
            " 6   reviewText      999981 non-null   object \n",
            " 7   summary         999979 non-null   object \n",
            " 8   unixReviewTime  1000000 non-null  object \n",
            "dtypes: float64(1), object(8)\n",
            "memory usage: 68.7+ MB\n",
            "None\n",
            "<class 'pandas.core.frame.DataFrame'>\n",
            "RangeIndex: 1000000 entries, 4000000 to 4999999\n",
            "Data columns (total 9 columns):\n",
            " #   Column          Non-Null Count    Dtype  \n",
            "---  ------          --------------    -----  \n",
            " 0   overall         1000000 non-null  float64\n",
            " 1   verified        1000000 non-null  object \n",
            " 2   reviewTime      1000000 non-null  object \n",
            " 3   reviewerID      1000000 non-null  object \n",
            " 4   asin            1000000 non-null  object \n",
            " 5   reviewerName    999990 non-null   object \n",
            " 6   reviewText      999982 non-null   object \n",
            " 7   summary         999983 non-null   object \n",
            " 8   unixReviewTime  1000000 non-null  object \n",
            "dtypes: float64(1), object(8)\n",
            "memory usage: 68.7+ MB\n",
            "None\n",
            "<class 'pandas.core.frame.DataFrame'>\n",
            "RangeIndex: 1000000 entries, 5000000 to 5999999\n",
            "Data columns (total 9 columns):\n",
            " #   Column          Non-Null Count    Dtype  \n",
            "---  ------          --------------    -----  \n",
            " 0   overall         1000000 non-null  float64\n",
            " 1   verified        1000000 non-null  object \n",
            " 2   reviewTime      1000000 non-null  object \n",
            " 3   reviewerID      1000000 non-null  object \n",
            " 4   asin            1000000 non-null  object \n",
            " 5   reviewerName    999992 non-null   object \n",
            " 6   reviewText      999973 non-null   object \n",
            " 7   summary         999978 non-null   object \n",
            " 8   unixReviewTime  1000000 non-null  object \n",
            "dtypes: float64(1), object(8)\n",
            "memory usage: 68.7+ MB\n",
            "None\n",
            "<class 'pandas.core.frame.DataFrame'>\n",
            "RangeIndex: 1000000 entries, 6000000 to 6999999\n",
            "Data columns (total 9 columns):\n",
            " #   Column          Non-Null Count    Dtype  \n",
            "---  ------          --------------    -----  \n",
            " 0   overall         1000000 non-null  float64\n",
            " 1   verified        1000000 non-null  object \n",
            " 2   reviewTime      1000000 non-null  object \n",
            " 3   reviewerID      1000000 non-null  object \n",
            " 4   asin            1000000 non-null  object \n",
            " 5   reviewerName    999984 non-null   object \n",
            " 6   reviewText      999975 non-null   object \n",
            " 7   summary         999981 non-null   object \n",
            " 8   unixReviewTime  1000000 non-null  object \n",
            "dtypes: float64(1), object(8)\n",
            "memory usage: 68.7+ MB\n",
            "None\n",
            "<class 'pandas.core.frame.DataFrame'>\n",
            "RangeIndex: 1000000 entries, 7000000 to 7999999\n",
            "Data columns (total 9 columns):\n",
            " #   Column          Non-Null Count    Dtype  \n",
            "---  ------          --------------    -----  \n",
            " 0   overall         1000000 non-null  float64\n",
            " 1   verified        1000000 non-null  object \n",
            " 2   reviewTime      1000000 non-null  object \n",
            " 3   reviewerID      1000000 non-null  object \n",
            " 4   asin            1000000 non-null  object \n",
            " 5   reviewerName    999965 non-null   object \n",
            " 6   reviewText      999988 non-null   object \n",
            " 7   summary         999971 non-null   object \n",
            " 8   unixReviewTime  1000000 non-null  object \n",
            "dtypes: float64(1), object(8)\n",
            "memory usage: 68.7+ MB\n",
            "None\n",
            "<class 'pandas.core.frame.DataFrame'>\n",
            "RangeIndex: 1000000 entries, 8000000 to 8999999\n",
            "Data columns (total 9 columns):\n",
            " #   Column          Non-Null Count    Dtype  \n",
            "---  ------          --------------    -----  \n",
            " 0   overall         1000000 non-null  float64\n",
            " 1   verified        1000000 non-null  object \n",
            " 2   reviewTime      1000000 non-null  object \n",
            " 3   reviewerID      1000000 non-null  object \n",
            " 4   asin            1000000 non-null  object \n",
            " 5   reviewerName    999974 non-null   object \n",
            " 6   reviewText      999982 non-null   object \n",
            " 7   summary         999967 non-null   object \n",
            " 8   unixReviewTime  1000000 non-null  object \n",
            "dtypes: float64(1), object(8)\n",
            "memory usage: 68.7+ MB\n",
            "None\n",
            "<class 'pandas.core.frame.DataFrame'>\n",
            "RangeIndex: 623292 entries, 9000000 to 9623291\n",
            "Data columns (total 9 columns):\n",
            " #   Column          Non-Null Count   Dtype  \n",
            "---  ------          --------------   -----  \n",
            " 0   overall         623292 non-null  float64\n",
            " 1   verified        623292 non-null  object \n",
            " 2   reviewTime      623292 non-null  object \n",
            " 3   reviewerID      623292 non-null  object \n",
            " 4   asin            623292 non-null  object \n",
            " 5   reviewerName    623277 non-null  object \n",
            " 6   reviewText      623282 non-null  object \n",
            " 7   summary         623269 non-null  object \n",
            " 8   unixReviewTime  623292 non-null  object \n",
            "dtypes: float64(1), object(8)\n",
            "memory usage: 42.8+ MB\n",
            "None\n"
          ]
        }
      ]
    },
    {
      "cell_type": "code",
      "execution_count": 176,
      "metadata": {
        "id": "onj4ROp-AYTv"
      },
      "outputs": [],
      "source": [
        "for i in range(len(chunks)):\n",
        "  chunks[i]=chunks[i].drop(['verified', 'reviewTime', 'reviewerID', 'asin',\n",
        "       'reviewerName','unixReviewTime'],axis=1)"
      ]
    },
    {
      "cell_type": "code",
      "execution_count": 177,
      "metadata": {
        "colab": {
          "base_uri": "https://localhost:8080/"
        },
        "id": "_gbgYRrYAlAa",
        "outputId": "519e1ea7-7202-47eb-b4b5-03a74d0782d5"
      },
      "outputs": [
        {
          "output_type": "stream",
          "name": "stdout",
          "text": [
            "   overall                                        reviewText     summary\n",
            "0      5.0  If your into space this is the Calendar for you.  Five Stars\n",
            "1      5.0                                 Awesome pictures!  Five Stars\n",
            "         overall  ...                             summary\n",
            "1000000      5.0  ...  Fast, quality products from Spigen\n",
            "1000001      5.0  ...                           Stunning!\n",
            "\n",
            "[2 rows x 3 columns]\n",
            "         overall  ...                                            summary\n",
            "2000000      5.0  ...  Thank you for allowing me to be using very fas...\n",
            "2000001      4.0  ...                              awesome arrived early\n",
            "\n",
            "[2 rows x 3 columns]\n",
            "         overall reviewText                             summary\n",
            "3000000      5.0   amphelps                 Works great so far.\n",
            "3000001      5.0    Tijonna  Works great, just the right length\n",
            "         overall  ...                                            summary\n",
            "4000000      2.0  ...  I came in and I thought it was really cute but...\n",
            "4000001      5.0  ...                                My sister likes it!\n",
            "\n",
            "[2 rows x 3 columns]\n",
            "         overall  ...                                            summary\n",
            "5000000      5.0  ...  An amazing power bank, equalled in quality onl...\n",
            "5000001      5.0  ...  This is a great device that charges my phone a...\n",
            "\n",
            "[2 rows x 3 columns]\n",
            "         overall  ...                                            summary\n",
            "6000000      5.0  ...  I bought this when the Nintendo Switch release...\n",
            "6000001      5.0  ...  An industrial-strength power bank for all your...\n",
            "\n",
            "[2 rows x 3 columns]\n",
            "         overall reviewText                                            summary\n",
            "7000000      5.0       Adam  I received this product at a discounted price ...\n",
            "7000001      5.0     KeiroD  Hi,\\n\\nThis is a discounted/free product revie...\n",
            "         overall  ...                                            summary\n",
            "8000000      5.0  ...  The cover is really cool. I love my design. Fi...\n",
            "8000001      5.0  ...      Looks great on my phone and I love pink camo!\n",
            "\n",
            "[2 rows x 3 columns]\n",
            "         overall  ...                                    summary\n",
            "9000000      5.0  ...                                 Five Stars\n",
            "9000001      2.0  ...  Charges, not much more than dead battery.\n",
            "\n",
            "[2 rows x 3 columns]\n"
          ]
        }
      ],
      "source": [
        "for j in chunks:\n",
        "  print(j.head(2))"
      ]
    },
    {
      "cell_type": "code",
      "execution_count": 178,
      "metadata": {
        "id": "naKJfs8NHOX3"
      },
      "outputs": [],
      "source": [
        "for chunk in chunks:\n",
        "  chunk['reviewText']=chunk['reviewText']+chunk['summary']"
      ]
    },
    {
      "cell_type": "code",
      "execution_count": 179,
      "metadata": {
        "id": "-seVKfnaD_nY"
      },
      "outputs": [],
      "source": [
        "import re, string\n",
        "from string import punctuation\n",
        "\n",
        "def review_cleaning(text):\n",
        "    text = str(text).lower()\n",
        "    text = re.sub('\\[.*?\\]', '', text)\n",
        "    text = re.sub('https?://\\S+|www\\.\\S+', '', text)\n",
        "    text = re.sub('<.*?>+', '', text)\n",
        "    text = re.sub('[%s]' % re.escape(string.punctuation), '', text)\n",
        "    text = re.sub('\\n', '', text)\n",
        "    text = re.sub('\\w*\\d\\w*', '', text)\n",
        "    return text"
      ]
    },
    {
      "cell_type": "code",
      "execution_count": 180,
      "metadata": {
        "id": "CeaOo0QsArqO"
      },
      "outputs": [],
      "source": [
        "for chunk in chunks:\n",
        "  chunk['reviewText']=chunk['reviewText'].apply(lambda x:review_cleaning(x))\n"
      ]
    },
    {
      "cell_type": "code",
      "execution_count": 181,
      "metadata": {
        "id": "gwQmkAMRERRb"
      },
      "outputs": [],
      "source": [
        "for i in range(len(chunks)):\n",
        "  chunks[i]=chunks[i].drop(['summary'],axis=1)\n",
        "\n",
        "  "
      ]
    },
    {
      "cell_type": "code",
      "execution_count": 182,
      "metadata": {
        "colab": {
          "base_uri": "https://localhost:8080/"
        },
        "id": "AbFli5f6HHqI",
        "outputId": "8f085ba2-9670-41a1-96c5-bca9a39fc217"
      },
      "outputs": [
        {
          "output_type": "stream",
          "name": "stdout",
          "text": [
            "0\n",
            "0\n",
            "0\n",
            "0\n",
            "0\n",
            "0\n",
            "0\n",
            "0\n",
            "0\n",
            "0\n"
          ]
        }
      ],
      "source": [
        "for i in chunks:\n",
        "  print(i['reviewText'].isnull().sum())"
      ]
    },
    {
      "cell_type": "code",
      "execution_count": 183,
      "metadata": {
        "colab": {
          "base_uri": "https://localhost:8080/"
        },
        "id": "URd4os9sXGT-",
        "outputId": "fa30fdc9-ffa7-433c-9df3-812f14cef61f"
      },
      "outputs": [
        {
          "output_type": "stream",
          "name": "stdout",
          "text": [
            "0\n",
            "0\n",
            "0\n",
            "0\n",
            "0\n",
            "0\n",
            "0\n",
            "0\n",
            "0\n",
            "0\n"
          ]
        }
      ],
      "source": [
        "for i in chunks:\n",
        "  print(i['overall'].isnull().sum())"
      ]
    },
    {
      "cell_type": "code",
      "execution_count": 184,
      "metadata": {
        "colab": {
          "base_uri": "https://localhost:8080/"
        },
        "id": "qdkmAduPXcU4",
        "outputId": "ffba3947-db0e-4852-c03f-9ff687c3b5b3"
      },
      "outputs": [
        {
          "output_type": "stream",
          "name": "stdout",
          "text": [
            "[5. 3. 2. 4. 1. 0.]\n",
            "[5. 3. 4. 2. 1. 0.]\n",
            "[5. 4. 1. 3. 0. 2.]\n",
            "[5. 3. 4. 1. 2. 0.]\n",
            "[2. 5. 3. 0. 4. 1.]\n",
            "[5. 3. 4. 2. 1. 0.]\n",
            "[5. 4. 1. 3. 2. 0.]\n",
            "[5. 0. 4. 1. 3. 2.]\n",
            "[5. 1. 3. 2. 4. 0.]\n",
            "[5. 2. 4. 0. 3. 1.]\n"
          ]
        }
      ],
      "source": [
        "for i in chunks:\n",
        "  print(i['overall'].unique())"
      ]
    },
    {
      "cell_type": "code",
      "execution_count": 185,
      "metadata": {
        "colab": {
          "base_uri": "https://localhost:8080/"
        },
        "id": "TW75dtPnXiQo",
        "outputId": "5d67ccf2-b252-41d9-c0b0-5bae57c2adff"
      },
      "outputs": [
        {
          "output_type": "stream",
          "name": "stdout",
          "text": [
            "<class 'pandas.core.frame.DataFrame'>\n",
            "RangeIndex: 1000000 entries, 0 to 999999\n",
            "Data columns (total 2 columns):\n",
            " #   Column      Non-Null Count    Dtype  \n",
            "---  ------      --------------    -----  \n",
            " 0   overall     1000000 non-null  float64\n",
            " 1   reviewText  1000000 non-null  object \n",
            "dtypes: float64(1), object(1)\n",
            "memory usage: 15.3+ MB\n",
            "None\n",
            "<class 'pandas.core.frame.DataFrame'>\n",
            "RangeIndex: 1000000 entries, 1000000 to 1999999\n",
            "Data columns (total 2 columns):\n",
            " #   Column      Non-Null Count    Dtype  \n",
            "---  ------      --------------    -----  \n",
            " 0   overall     1000000 non-null  float64\n",
            " 1   reviewText  1000000 non-null  object \n",
            "dtypes: float64(1), object(1)\n",
            "memory usage: 15.3+ MB\n",
            "None\n",
            "<class 'pandas.core.frame.DataFrame'>\n",
            "RangeIndex: 1000000 entries, 2000000 to 2999999\n",
            "Data columns (total 2 columns):\n",
            " #   Column      Non-Null Count    Dtype  \n",
            "---  ------      --------------    -----  \n",
            " 0   overall     1000000 non-null  float64\n",
            " 1   reviewText  1000000 non-null  object \n",
            "dtypes: float64(1), object(1)\n",
            "memory usage: 15.3+ MB\n",
            "None\n",
            "<class 'pandas.core.frame.DataFrame'>\n",
            "RangeIndex: 1000000 entries, 3000000 to 3999999\n",
            "Data columns (total 2 columns):\n",
            " #   Column      Non-Null Count    Dtype  \n",
            "---  ------      --------------    -----  \n",
            " 0   overall     1000000 non-null  float64\n",
            " 1   reviewText  1000000 non-null  object \n",
            "dtypes: float64(1), object(1)\n",
            "memory usage: 15.3+ MB\n",
            "None\n",
            "<class 'pandas.core.frame.DataFrame'>\n",
            "RangeIndex: 1000000 entries, 4000000 to 4999999\n",
            "Data columns (total 2 columns):\n",
            " #   Column      Non-Null Count    Dtype  \n",
            "---  ------      --------------    -----  \n",
            " 0   overall     1000000 non-null  float64\n",
            " 1   reviewText  1000000 non-null  object \n",
            "dtypes: float64(1), object(1)\n",
            "memory usage: 15.3+ MB\n",
            "None\n",
            "<class 'pandas.core.frame.DataFrame'>\n",
            "RangeIndex: 1000000 entries, 5000000 to 5999999\n",
            "Data columns (total 2 columns):\n",
            " #   Column      Non-Null Count    Dtype  \n",
            "---  ------      --------------    -----  \n",
            " 0   overall     1000000 non-null  float64\n",
            " 1   reviewText  1000000 non-null  object \n",
            "dtypes: float64(1), object(1)\n",
            "memory usage: 15.3+ MB\n",
            "None\n",
            "<class 'pandas.core.frame.DataFrame'>\n",
            "RangeIndex: 1000000 entries, 6000000 to 6999999\n",
            "Data columns (total 2 columns):\n",
            " #   Column      Non-Null Count    Dtype  \n",
            "---  ------      --------------    -----  \n",
            " 0   overall     1000000 non-null  float64\n",
            " 1   reviewText  1000000 non-null  object \n",
            "dtypes: float64(1), object(1)\n",
            "memory usage: 15.3+ MB\n",
            "None\n",
            "<class 'pandas.core.frame.DataFrame'>\n",
            "RangeIndex: 1000000 entries, 7000000 to 7999999\n",
            "Data columns (total 2 columns):\n",
            " #   Column      Non-Null Count    Dtype  \n",
            "---  ------      --------------    -----  \n",
            " 0   overall     1000000 non-null  float64\n",
            " 1   reviewText  1000000 non-null  object \n",
            "dtypes: float64(1), object(1)\n",
            "memory usage: 15.3+ MB\n",
            "None\n",
            "<class 'pandas.core.frame.DataFrame'>\n",
            "RangeIndex: 1000000 entries, 8000000 to 8999999\n",
            "Data columns (total 2 columns):\n",
            " #   Column      Non-Null Count    Dtype  \n",
            "---  ------      --------------    -----  \n",
            " 0   overall     1000000 non-null  float64\n",
            " 1   reviewText  1000000 non-null  object \n",
            "dtypes: float64(1), object(1)\n",
            "memory usage: 15.3+ MB\n",
            "None\n",
            "<class 'pandas.core.frame.DataFrame'>\n",
            "RangeIndex: 623292 entries, 9000000 to 9623291\n",
            "Data columns (total 2 columns):\n",
            " #   Column      Non-Null Count   Dtype  \n",
            "---  ------      --------------   -----  \n",
            " 0   overall     623292 non-null  float64\n",
            " 1   reviewText  623292 non-null  object \n",
            "dtypes: float64(1), object(1)\n",
            "memory usage: 9.5+ MB\n",
            "None\n"
          ]
        }
      ],
      "source": [
        "for i in chunks:\n",
        "  print(i.info())"
      ]
    },
    {
      "cell_type": "code",
      "execution_count": 186,
      "metadata": {
        "colab": {
          "base_uri": "https://localhost:8080/"
        },
        "id": "wrGVgAJZZ8PQ",
        "outputId": "ee03e48d-ceb1-41e1-ac07-813e3e0629b9"
      },
      "outputs": [
        {
          "output_type": "stream",
          "name": "stdout",
          "text": [
            "   overall                                         reviewText\n",
            "0      5.0  if your into space this is the calendar for yo...\n",
            "1      5.0                         awesome picturesfive stars\n",
            "2      5.0  great wall art and information for space explo...\n",
            "3      5.0  as always it is a quality calendar full of ver...\n",
            "4      5.0  this is a fantastic calendar this is my third ...\n",
            "         overall                                         reviewText\n",
            "1000000      5.0  i love these buttons and they definitely are s...\n",
            "1000001      5.0  combined with tempered glass screen protector ...\n",
            "1000002      3.0  i only got this to get free supersavers shippi...\n",
            "1000003      3.0  but i think its a little bit over priced  for ...\n",
            "1000004      5.0  everyone asks me where i got that button for m...\n",
            "         overall                                         reviewText\n",
            "2000000      5.0  park young sunthank you for allowing me to be ...\n",
            "2000001      4.0               aleeya burrwellawesome arrived early\n",
            "2000002      5.0  johnfits like the factor oem cover to the moto...\n",
            "2000003      1.0  angie foxthis cover did not fit my motorola mo...\n",
            "2000004      5.0                bsharpfits perfectly and isnt bulky\n",
            "         overall                                         reviewText\n",
            "3000000      5.0                         amphelpsworks great so far\n",
            "3000001      5.0           tijonnaworks great just the right length\n",
            "3000002      3.0   bought this brands lots of time and its last ...\n",
            "3000003      4.0  gordon f meyersthey work ive had them for  mon...\n",
            "3000004      5.0  merohands down the best lightening chargers iv...\n",
            "         overall                                         reviewText\n",
            "4000000      2.0  dawn hubbardi came in and i thought it was rea...\n",
            "4000001      5.0                    sairis cedanomy sister likes it\n",
            "4000002      5.0                             hgreat protective case\n",
            "4000003      5.0                    austinbeautiful case great deal\n",
            "4000004      5.0                       joseph senatoregreat product\n",
            "         overall                                         reviewText\n",
            "5000000      5.0  jonathanan amazing power bank equalled in qual...\n",
            "5000001      5.0  jason jergethis is a great device that charges...\n",
            "5000002      3.0  dynoshipvery pleased it sits in its padded cas...\n",
            "5000003      5.0  j kimused it to charge my ipad in the car afte...\n",
            "5000004      4.0                               amazon customersweet\n",
            "         overall                                         reviewText\n",
            "6000000      5.0  deftrati bought this when the nintendo switch ...\n",
            "6000001      5.0  i love anker charging devices and this by far ...\n",
            "6000002      4.0  jolyn hannlike the productfits snug in the cig...\n",
            "6000003      5.0  hammyi am honestly not sure how some comments ...\n",
            "6000004      4.0  dthe neck was a little short for my applicatio...\n",
            "         overall                                         reviewText\n",
            "7000000      5.0  adami received this product at a discounted pr...\n",
            "7000001      5.0  keirodhithis is a discountedfree product revie...\n",
            "7000002      5.0  freedomthis is a happy little combo that you c...\n",
            "7000003      0.0                                  color  yellowmark\n",
            "7000004      5.0  raj jargot this through a promotional offer on...\n",
            "         overall                                         reviewText\n",
            "8000000      5.0  shabrina straga rodrguezthe cover is really co...\n",
            "8000001      5.0  carlalooks great on my phone and i love pink camo\n",
            "8000002      1.0                                     karen thonasok\n",
            "8000003      1.0  xxikayixxdid not fit the phone and when i trie...\n",
            "8000004      1.0  harleyi thought mightyskins was the name brand...\n",
            "         overall                                         reviewText\n",
            "9000000      5.0                    they do come in handyfive stars\n",
            "9000001      2.0  charges not much more than dead batterycharges...\n",
            "9000002      2.0  i wish i could say better words  however my ph...\n",
            "9000003      4.0  caitygot this for my boyfriend for our anniver...\n",
            "9000004      4.0                                  color  cyanarleen\n"
          ]
        }
      ],
      "source": [
        "for chunk in chunks:\n",
        "  print(chunk.head(5))\n"
      ]
    },
    {
      "cell_type": "code",
      "source": [
        "for df in chunks:\n",
        "  df=df.drop(df[df['overall'] == 0.0].index, inplace = True)"
      ],
      "metadata": {
        "id": "RwsxpQpXtzt3"
      },
      "execution_count": 192,
      "outputs": []
    },
    {
      "cell_type": "code",
      "source": [
        "for chunk in chunks:\n",
        "  print(chunk['overall'].unique())"
      ],
      "metadata": {
        "colab": {
          "base_uri": "https://localhost:8080/"
        },
        "id": "Bc7oDbEW2EcM",
        "outputId": "7083a765-1e43-403b-9429-067cedac104b"
      },
      "execution_count": 193,
      "outputs": [
        {
          "output_type": "stream",
          "name": "stdout",
          "text": [
            "[5. 3. 2. 4. 1.]\n",
            "[5. 3. 4. 2. 1.]\n",
            "[5. 4. 1. 3. 2.]\n",
            "[5. 3. 4. 1. 2.]\n",
            "[2. 5. 3. 4. 1.]\n",
            "[5. 3. 4. 2. 1.]\n",
            "[5. 4. 1. 3. 2.]\n",
            "[5. 4. 1. 3. 2.]\n",
            "[5. 1. 3. 2. 4.]\n",
            "[5. 2. 4. 3. 1.]\n"
          ]
        }
      ]
    },
    {
      "cell_type": "code",
      "source": [
        "stop_words= ['yourselves', 'between', 'whom', 'itself', 'is', \"she's\", 'up', 'herself', 'here', 'your', 'each', \n",
        "             'we', 'he', 'my', \"you've\", 'having', 'in', 'both', 'for', 'themselves', 'are', 'them', 'other',\n",
        "             'and', 'an', 'during', 'their', 'can', 'yourself', 'she', 'until', 'so', 'these', 'ours', 'above', \n",
        "             'what', 'while', 'have', 're', 'more', 'only', \"needn't\", 'when', 'just', 'that', 'were', \"don't\", \n",
        "             'very', 'should', 'any', 'y', 'isn', 'who',  'a', 'they', 'to', 'too', \"should've\", 'has', 'before',\n",
        "             'into', 'yours', \"it's\", 'do', 'against', 'on',  'now', 'her', 've', 'd', 'by', 'am', 'from', \n",
        "             'about', 'further', \"that'll\", \"you'd\", 'you', 'as', 'how', 'been', 'the', 'or', 'doing', 'such',\n",
        "             'his', 'himself', 'ourselves',  'was', 'through', 'out', 'below', 'own', 'myself', 'theirs', \n",
        "             'me', 'why', 'once',  'him', 'than', 'be', 'most', \"you'll\", 'same', 'some', 'with', 'few', 'it',\n",
        "             'at', 'after', 'its', 'which', 'there','our', 'this', 'hers', 'being', 'did', 'of', 'had', 'under',\n",
        "             'over','again', 'where', 'those', 'then', \"you're\", 'i', 'because', 'does', 'all']"
      ],
      "metadata": {
        "id": "cXTwOXzO2RAj"
      },
      "execution_count": 194,
      "outputs": []
    },
    {
      "cell_type": "code",
      "source": [
        "for chunk in chunks:\n",
        "  chunk['reviewText'] = chunk['reviewText'].apply(lambda x: ' '.join([word for word in x.split() if word not in (stop_words)]))"
      ],
      "metadata": {
        "id": "IMzsTa055CjX"
      },
      "execution_count": 196,
      "outputs": []
    },
    {
      "cell_type": "code",
      "source": [
        "from sklearn.model_selection import train_test_split\n",
        "from sklearn.feature_extraction.text import CountVectorizer\n",
        "from sklearn.linear_model import LogisticRegression\n",
        "from sklearn import metrics"
      ],
      "metadata": {
        "id": "2XZOV_8xR0T9"
      },
      "execution_count": 211,
      "outputs": []
    },
    {
      "cell_type": "code",
      "source": [
        "def f(row):\n",
        "  if row == 3.0:\n",
        "    val = '0'\n",
        "  elif row == 1.0 or row == 2.0:\n",
        "    val = '-1'\n",
        "  elif row == 4.0 or row == 5.0:\n",
        "    val = '1'\n",
        "  else:\n",
        "    val = '-1'\n",
        "    \n",
        "  return val"
      ],
      "metadata": {
        "id": "zTVypic4Zxgv"
      },
      "execution_count": 241,
      "outputs": []
    },
    {
      "cell_type": "code",
      "source": [
        "i=0\n",
        "print(\"Total chunks for given dataset is:- \",len(chunks))\n",
        "print()\n",
        "\n",
        "for chunk in chunks:\n",
        "\n",
        "  \n",
        "   \n",
        "  i=i+1\n",
        "  dataset=chunk\n",
        "  dataset[\"label\"] = dataset[\"overall\"].apply(f)\n",
        "\n",
        "  \n",
        "  X = pd.DataFrame(dataset, columns = [\"reviewText\"])\n",
        "  y = pd.DataFrame(dataset, columns = [\"label\"])\n",
        "  \n",
        "  train_X, test_X, train_y, test_y = train_test_split(X, y, random_state=50)\n",
        "\n",
        "  \n",
        "  vectorizer = CountVectorizer(token_pattern=r'\\b\\w+\\b')\n",
        "  train_vector = vectorizer.fit_transform(train_X[\"reviewText\"])\n",
        "  test_vector = vectorizer.transform(test_X[\"reviewText\"])\n",
        "  \n",
        "  clr = LogisticRegression()\n",
        "  clr.fit(train_vector, train_y.values.ravel())\n",
        "  scores = clr.score(test_vector, test_y)\n",
        "  print()\n",
        "  print(\"#\"*100)\n",
        "  print(\"Model accuracy of chunk {} is:-\".format(i))\n",
        "  print(scores)\n",
        "  print(\"OR\")\n",
        "  print(\"{}%\".format(round(scores*100,2)))\n",
        "  print()\n",
        "  print(\"#\"*100)\n",
        "  print()"
      ],
      "metadata": {
        "colab": {
          "base_uri": "https://localhost:8080/"
        },
        "id": "SHw_fhYS-Qhk",
        "outputId": "ce2e20c6-f4cf-49ff-ca91-b1ddec54ff92"
      },
      "execution_count": 242,
      "outputs": [
        {
          "output_type": "stream",
          "name": "stdout",
          "text": [
            "Total chunks for given dataset is:-  10\n",
            "\n"
          ]
        },
        {
          "output_type": "stream",
          "name": "stderr",
          "text": [
            "/usr/local/lib/python3.7/dist-packages/sklearn/linear_model/_logistic.py:818: ConvergenceWarning: lbfgs failed to converge (status=1):\n",
            "STOP: TOTAL NO. of ITERATIONS REACHED LIMIT.\n",
            "\n",
            "Increase the number of iterations (max_iter) or scale the data as shown in:\n",
            "    https://scikit-learn.org/stable/modules/preprocessing.html\n",
            "Please also refer to the documentation for alternative solver options:\n",
            "    https://scikit-learn.org/stable/modules/linear_model.html#logistic-regression\n",
            "  extra_warning_msg=_LOGISTIC_SOLVER_CONVERGENCE_MSG,\n"
          ]
        },
        {
          "output_type": "stream",
          "name": "stdout",
          "text": [
            "\n",
            "####################################################################################################\n",
            "Model accuracy of chunk 1 is:-\n",
            "0.8489915787699949\n",
            "OR\n",
            "84.9%\n",
            "\n",
            "####################################################################################################\n",
            "\n"
          ]
        },
        {
          "output_type": "stream",
          "name": "stderr",
          "text": [
            "/usr/local/lib/python3.7/dist-packages/sklearn/linear_model/_logistic.py:818: ConvergenceWarning: lbfgs failed to converge (status=1):\n",
            "STOP: TOTAL NO. of ITERATIONS REACHED LIMIT.\n",
            "\n",
            "Increase the number of iterations (max_iter) or scale the data as shown in:\n",
            "    https://scikit-learn.org/stable/modules/preprocessing.html\n",
            "Please also refer to the documentation for alternative solver options:\n",
            "    https://scikit-learn.org/stable/modules/linear_model.html#logistic-regression\n",
            "  extra_warning_msg=_LOGISTIC_SOLVER_CONVERGENCE_MSG,\n"
          ]
        },
        {
          "output_type": "stream",
          "name": "stdout",
          "text": [
            "\n",
            "####################################################################################################\n",
            "Model accuracy of chunk 2 is:-\n",
            "0.8498865302351736\n",
            "OR\n",
            "84.99%\n",
            "\n",
            "####################################################################################################\n",
            "\n"
          ]
        },
        {
          "output_type": "stream",
          "name": "stderr",
          "text": [
            "/usr/local/lib/python3.7/dist-packages/sklearn/linear_model/_logistic.py:818: ConvergenceWarning: lbfgs failed to converge (status=1):\n",
            "STOP: TOTAL NO. of ITERATIONS REACHED LIMIT.\n",
            "\n",
            "Increase the number of iterations (max_iter) or scale the data as shown in:\n",
            "    https://scikit-learn.org/stable/modules/preprocessing.html\n",
            "Please also refer to the documentation for alternative solver options:\n",
            "    https://scikit-learn.org/stable/modules/linear_model.html#logistic-regression\n",
            "  extra_warning_msg=_LOGISTIC_SOLVER_CONVERGENCE_MSG,\n"
          ]
        },
        {
          "output_type": "stream",
          "name": "stdout",
          "text": [
            "\n",
            "####################################################################################################\n",
            "Model accuracy of chunk 3 is:-\n",
            "0.8562491943799948\n",
            "OR\n",
            "85.62%\n",
            "\n",
            "####################################################################################################\n",
            "\n"
          ]
        },
        {
          "output_type": "stream",
          "name": "stderr",
          "text": [
            "/usr/local/lib/python3.7/dist-packages/sklearn/linear_model/_logistic.py:818: ConvergenceWarning: lbfgs failed to converge (status=1):\n",
            "STOP: TOTAL NO. of ITERATIONS REACHED LIMIT.\n",
            "\n",
            "Increase the number of iterations (max_iter) or scale the data as shown in:\n",
            "    https://scikit-learn.org/stable/modules/preprocessing.html\n",
            "Please also refer to the documentation for alternative solver options:\n",
            "    https://scikit-learn.org/stable/modules/linear_model.html#logistic-regression\n",
            "  extra_warning_msg=_LOGISTIC_SOLVER_CONVERGENCE_MSG,\n"
          ]
        },
        {
          "output_type": "stream",
          "name": "stdout",
          "text": [
            "\n",
            "####################################################################################################\n",
            "Model accuracy of chunk 4 is:-\n",
            "0.8586932312863188\n",
            "OR\n",
            "85.87%\n",
            "\n",
            "####################################################################################################\n",
            "\n"
          ]
        },
        {
          "output_type": "stream",
          "name": "stderr",
          "text": [
            "/usr/local/lib/python3.7/dist-packages/sklearn/linear_model/_logistic.py:818: ConvergenceWarning: lbfgs failed to converge (status=1):\n",
            "STOP: TOTAL NO. of ITERATIONS REACHED LIMIT.\n",
            "\n",
            "Increase the number of iterations (max_iter) or scale the data as shown in:\n",
            "    https://scikit-learn.org/stable/modules/preprocessing.html\n",
            "Please also refer to the documentation for alternative solver options:\n",
            "    https://scikit-learn.org/stable/modules/linear_model.html#logistic-regression\n",
            "  extra_warning_msg=_LOGISTIC_SOLVER_CONVERGENCE_MSG,\n"
          ]
        },
        {
          "output_type": "stream",
          "name": "stdout",
          "text": [
            "\n",
            "####################################################################################################\n",
            "Model accuracy of chunk 5 is:-\n",
            "0.856835012994631\n",
            "OR\n",
            "85.68%\n",
            "\n",
            "####################################################################################################\n",
            "\n"
          ]
        },
        {
          "output_type": "stream",
          "name": "stderr",
          "text": [
            "/usr/local/lib/python3.7/dist-packages/sklearn/linear_model/_logistic.py:818: ConvergenceWarning: lbfgs failed to converge (status=1):\n",
            "STOP: TOTAL NO. of ITERATIONS REACHED LIMIT.\n",
            "\n",
            "Increase the number of iterations (max_iter) or scale the data as shown in:\n",
            "    https://scikit-learn.org/stable/modules/preprocessing.html\n",
            "Please also refer to the documentation for alternative solver options:\n",
            "    https://scikit-learn.org/stable/modules/linear_model.html#logistic-regression\n",
            "  extra_warning_msg=_LOGISTIC_SOLVER_CONVERGENCE_MSG,\n"
          ]
        },
        {
          "output_type": "stream",
          "name": "stdout",
          "text": [
            "\n",
            "####################################################################################################\n",
            "Model accuracy of chunk 6 is:-\n",
            "0.8574671553148673\n",
            "OR\n",
            "85.75%\n",
            "\n",
            "####################################################################################################\n",
            "\n"
          ]
        },
        {
          "output_type": "stream",
          "name": "stderr",
          "text": [
            "/usr/local/lib/python3.7/dist-packages/sklearn/linear_model/_logistic.py:818: ConvergenceWarning: lbfgs failed to converge (status=1):\n",
            "STOP: TOTAL NO. of ITERATIONS REACHED LIMIT.\n",
            "\n",
            "Increase the number of iterations (max_iter) or scale the data as shown in:\n",
            "    https://scikit-learn.org/stable/modules/preprocessing.html\n",
            "Please also refer to the documentation for alternative solver options:\n",
            "    https://scikit-learn.org/stable/modules/linear_model.html#logistic-regression\n",
            "  extra_warning_msg=_LOGISTIC_SOLVER_CONVERGENCE_MSG,\n"
          ]
        },
        {
          "output_type": "stream",
          "name": "stdout",
          "text": [
            "\n",
            "####################################################################################################\n",
            "Model accuracy of chunk 7 is:-\n",
            "0.8540022013447166\n",
            "OR\n",
            "85.4%\n",
            "\n",
            "####################################################################################################\n",
            "\n"
          ]
        },
        {
          "output_type": "stream",
          "name": "stderr",
          "text": [
            "/usr/local/lib/python3.7/dist-packages/sklearn/linear_model/_logistic.py:818: ConvergenceWarning: lbfgs failed to converge (status=1):\n",
            "STOP: TOTAL NO. of ITERATIONS REACHED LIMIT.\n",
            "\n",
            "Increase the number of iterations (max_iter) or scale the data as shown in:\n",
            "    https://scikit-learn.org/stable/modules/preprocessing.html\n",
            "Please also refer to the documentation for alternative solver options:\n",
            "    https://scikit-learn.org/stable/modules/linear_model.html#logistic-regression\n",
            "  extra_warning_msg=_LOGISTIC_SOLVER_CONVERGENCE_MSG,\n"
          ]
        },
        {
          "output_type": "stream",
          "name": "stdout",
          "text": [
            "\n",
            "####################################################################################################\n",
            "Model accuracy of chunk 8 is:-\n",
            "0.8472780966404843\n",
            "OR\n",
            "84.73%\n",
            "\n",
            "####################################################################################################\n",
            "\n"
          ]
        },
        {
          "output_type": "stream",
          "name": "stderr",
          "text": [
            "/usr/local/lib/python3.7/dist-packages/sklearn/linear_model/_logistic.py:818: ConvergenceWarning: lbfgs failed to converge (status=1):\n",
            "STOP: TOTAL NO. of ITERATIONS REACHED LIMIT.\n",
            "\n",
            "Increase the number of iterations (max_iter) or scale the data as shown in:\n",
            "    https://scikit-learn.org/stable/modules/preprocessing.html\n",
            "Please also refer to the documentation for alternative solver options:\n",
            "    https://scikit-learn.org/stable/modules/linear_model.html#logistic-regression\n",
            "  extra_warning_msg=_LOGISTIC_SOLVER_CONVERGENCE_MSG,\n"
          ]
        },
        {
          "output_type": "stream",
          "name": "stdout",
          "text": [
            "\n",
            "####################################################################################################\n",
            "Model accuracy of chunk 9 is:-\n",
            "0.8564750016274982\n",
            "OR\n",
            "85.65%\n",
            "\n",
            "####################################################################################################\n",
            "\n"
          ]
        },
        {
          "output_type": "stream",
          "name": "stderr",
          "text": [
            "/usr/local/lib/python3.7/dist-packages/sklearn/linear_model/_logistic.py:818: ConvergenceWarning: lbfgs failed to converge (status=1):\n",
            "STOP: TOTAL NO. of ITERATIONS REACHED LIMIT.\n",
            "\n",
            "Increase the number of iterations (max_iter) or scale the data as shown in:\n",
            "    https://scikit-learn.org/stable/modules/preprocessing.html\n",
            "Please also refer to the documentation for alternative solver options:\n",
            "    https://scikit-learn.org/stable/modules/linear_model.html#logistic-regression\n",
            "  extra_warning_msg=_LOGISTIC_SOLVER_CONVERGENCE_MSG,\n"
          ]
        },
        {
          "output_type": "stream",
          "name": "stdout",
          "text": [
            "\n",
            "####################################################################################################\n",
            "Model accuracy of chunk 10 is:-\n",
            "0.8502087473823212\n",
            "OR\n",
            "85.02%\n",
            "\n",
            "####################################################################################################\n",
            "\n"
          ]
        }
      ]
    },
    {
      "cell_type": "markdown",
      "source": [
        "# **Taking chunk 4 for confusion matrix and classification report as it has the highest accuracy of 85.87%**\n",
        "\n"
      ],
      "metadata": {
        "id": "W3kTTHsRRBpI"
      }
    },
    {
      "cell_type": "code",
      "source": [
        "dataset1=chunks[3]\n",
        "dataset1[\"label\"]=dataset1[\"overall\"].apply(f)\n",
        "\n",
        "X = pd.DataFrame(dataset1, columns = [\"reviewText\"])\n",
        "y = pd.DataFrame(dataset1, columns = [\"label\"])\n",
        "  \n",
        "train_X, test_X, train_y, test_y = train_test_split(X, y, random_state=50)"
      ],
      "metadata": {
        "id": "-GFNlvgwRgfb"
      },
      "execution_count": 245,
      "outputs": []
    },
    {
      "cell_type": "code",
      "source": [
        "vectorizer = CountVectorizer(token_pattern=r'\\b\\w+\\b')\n",
        "train_vector = vectorizer.fit_transform(train_X[\"reviewText\"])\n",
        "test_vector = vectorizer.transform(test_X[\"reviewText\"])"
      ],
      "metadata": {
        "id": "3Rrpu0fEHpcW"
      },
      "execution_count": 246,
      "outputs": []
    },
    {
      "cell_type": "code",
      "source": [
        "clr = LogisticRegression()\n",
        "clr.fit(train_vector, train_y.values.ravel())\n",
        "y_pred=clr.predict(test_vector)\n",
        "scores = clr.score(test_vector, test_y)\n",
        "print(scores)"
      ],
      "metadata": {
        "colab": {
          "base_uri": "https://localhost:8080/"
        },
        "id": "HI_Rtl_jHwAj",
        "outputId": "637c1915-75f5-4ae6-9479-42fd4d301088"
      },
      "execution_count": 247,
      "outputs": [
        {
          "output_type": "stream",
          "name": "stderr",
          "text": [
            "/usr/local/lib/python3.7/dist-packages/sklearn/linear_model/_logistic.py:818: ConvergenceWarning: lbfgs failed to converge (status=1):\n",
            "STOP: TOTAL NO. of ITERATIONS REACHED LIMIT.\n",
            "\n",
            "Increase the number of iterations (max_iter) or scale the data as shown in:\n",
            "    https://scikit-learn.org/stable/modules/preprocessing.html\n",
            "Please also refer to the documentation for alternative solver options:\n",
            "    https://scikit-learn.org/stable/modules/linear_model.html#logistic-regression\n",
            "  extra_warning_msg=_LOGISTIC_SOLVER_CONVERGENCE_MSG,\n"
          ]
        },
        {
          "output_type": "stream",
          "name": "stdout",
          "text": [
            "0.8586932312863188\n"
          ]
        }
      ]
    },
    {
      "cell_type": "code",
      "source": [
        "import seaborn as sns"
      ],
      "metadata": {
        "id": "Mri3P7g4H3JW"
      },
      "execution_count": 248,
      "outputs": []
    },
    {
      "cell_type": "code",
      "source": [
        "cm=metrics.confusion_matrix(test_y, y_pred)\n",
        "print(cm)"
      ],
      "metadata": {
        "colab": {
          "base_uri": "https://localhost:8080/"
        },
        "id": "dQFZJfgEUxSM",
        "outputId": "f64ea5f0-3f2b-466e-ce13-64fc9e339346"
      },
      "execution_count": 249,
      "outputs": [
        {
          "output_type": "stream",
          "name": "stdout",
          "text": [
            "[[ 29404   1709  11922]\n",
            " [  4528   3780  10682]\n",
            " [  3860   2194 178866]]\n"
          ]
        }
      ]
    },
    {
      "cell_type": "code",
      "source": [
        "ax = sns.heatmap(cm, annot=True, cmap='Blues')\n",
        "\n",
        "ax.set_xlabel('\\nPredicted labels')\n",
        "ax.set_ylabel('Actual labels');\n",
        "\n",
        "ax.xaxis.set_ticklabels(['Negative','Neutral','Positive'])\n",
        "ax.yaxis.set_ticklabels(['Negative','Neutral','Positive'])\n",
        "\n",
        "plt.show()"
      ],
      "metadata": {
        "colab": {
          "base_uri": "https://localhost:8080/",
          "height": 291
        },
        "id": "50rUZq5sUHU-",
        "outputId": "a237f576-4669-4100-a83c-7124d82b88f4"
      },
      "execution_count": 250,
      "outputs": [
        {
          "output_type": "display_data",
          "data": {
            "image/png": "[encoded data removed]",
            "text/plain": [
              "<Figure size 432x288 with 2 Axes>"
            ]
          },
          "metadata": {
            "needs_background": "light"
          }
        }
      ]
    },
    {
      "cell_type": "code",
      "source": [
        "cl=metrics.classification_report(test_y, y_pred)\n",
        "print(cl)"
      ],
      "metadata": {
        "colab": {
          "base_uri": "https://localhost:8080/"
        },
        "id": "oxJIDHwPUqk5",
        "outputId": "6c72781e-b17e-4b9e-bec8-e00aacbff291"
      },
      "execution_count": 251,
      "outputs": [
        {
          "output_type": "stream",
          "name": "stdout",
          "text": [
            "              precision    recall  f1-score   support\n",
            "\n",
            "          -1       0.78      0.68      0.73     43035\n",
            "           0       0.49      0.20      0.28     18990\n",
            "           1       0.89      0.97      0.93    184920\n",
            "\n",
            "    accuracy                           0.86    246945\n",
            "   macro avg       0.72      0.62      0.65    246945\n",
            "weighted avg       0.84      0.86      0.84    246945\n",
            "\n"
          ]
        }
      ]
    },
    {
      "cell_type": "markdown",
      "source": [
        "# **We can repeat the above last 8 cells for each chunk inorder to get the confusion matrix and classfication report for each of them**"
      ],
      "metadata": {
        "id": "3PII1cOhbeeK"
      }
    },
    {
      "cell_type": "code",
      "source": [
        ""
      ],
      "metadata": {
        "id": "3i6StAbph4id"
      },
      "execution_count": null,
      "outputs": []
    }
  ],
  "metadata": {
    "colab": {
      "name": "ML/NLP.ipynb",
      "provenance": [],
      "collapsed_sections": []
    },
    "kernelspec": {
      "display_name": "Python 3",
      "name": "python3"
    },
    "language_info": {
      "name": "python"
    }
  },
  "nbformat": 4,
  "nbformat_minor": 0
}